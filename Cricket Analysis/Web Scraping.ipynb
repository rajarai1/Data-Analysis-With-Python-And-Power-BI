{
 "cells": [
  {
   "cell_type": "code",
   "execution_count": null,
   "id": "93f4fba8",
   "metadata": {},
   "outputs": [],
   "source": [
    "import pandas as pd\n",
    "url='https://www.espncricinfo.com/records/tournament/batting-highest-career-strike-rate/icc-men-s-t20-world-cup-2024-15946'\n",
    "all_tables=pd.read_html(url)\n",
    "df=all_tables[0]\n",
    "df.to_excel('strikerate.xlsx')\n",
    "\n",
    "url2='https://www.espncricinfo.com/records/tournament/team-match-results/icc-men-s-t20-world-cup-2024-15946'\n",
    "all_tables=pd.read_html(url2)\n",
    "dff=all_tables[0]\n",
    "df.to_excel('results.xlsx')\n",
    "\n",
    "url3='https://www.espncricinfo.com/records/tournament/batting-most-runs-career/icc-men-s-t20-world-cup-2024-15946'\n",
    "all_tables=pd.read_html(url3)\n",
    "dfff=all_tables[0]\n",
    "dfff.to_excel('batting.xlsx')\n",
    "\n",
    "url4='https://www.espncricinfo.com/records/tournament/bowling-most-wickets-career/icc-men-s-t20-world-cup-2024-15946'\n",
    "all_tables=pd.read_html(url4)\n",
    "dfff=all_tables[0]\n",
    "dfff.to_excel('bowling.xlsx')"
   ]
  }
 ],
 "metadata": {
  "language_info": {
   "name": "python"
  }
 },
 "nbformat": 4,
 "nbformat_minor": 5
}
